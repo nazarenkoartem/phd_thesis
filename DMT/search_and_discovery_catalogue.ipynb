{
 "cells": [
  {
   "cell_type": "code",
   "execution_count": 1,
   "id": "9be44f0a",
   "metadata": {},
   "outputs": [],
   "source": [
    "#get records and check matches\n",
    "import pymongo\n",
    "import json\n",
    "#from collections import Iterable\n",
    "import pandas as pd\n",
    "import spacy"
   ]
  },
  {
   "cell_type": "code",
   "execution_count": 2,
   "id": "eb230245",
   "metadata": {},
   "outputs": [],
   "source": [
    "connection = pymongo.MongoClient('localhost', 27017)\n",
    "\n",
    "db = connection['my_phd']\n",
    "\n",
    "collection = db['clustered_collections']"
   ]
  },
  {
   "cell_type": "code",
   "execution_count": 3,
   "id": "01c3e15f",
   "metadata": {},
   "outputs": [],
   "source": [
    "#get the devices, retrieve the information about the device\n",
    "def get_device_attributes():\n",
    "    batch = collection.find({\"Anchor\": \"Device\"})\n",
    "    \n",
    "    output = []\n",
    "    for item in batch:\n",
    "        output.append([item[\"Device_id\"], item[\"type\"], item[\"attribute\"], item[\"Description\"]])\n",
    "    return(output)"
   ]
  },
  {
   "cell_type": "code",
   "execution_count": 3,
   "id": "083ceeeb",
   "metadata": {},
   "outputs": [
    {
     "name": "stderr",
     "output_type": "stream",
     "text": [
      "C:\\Users\\Artem\\anaconda3\\lib\\site-packages\\scipy\\__init__.py:146: UserWarning: A NumPy version >=1.16.5 and <1.23.0 is required for this version of SciPy (detected version 1.26.4\n",
      "  warnings.warn(f\"A NumPy version >={np_minversion} and <{np_maxversion}\"\n"
     ]
    },
    {
     "ename": "NameError",
     "evalue": "name 'get_device_attributes' is not defined",
     "output_type": "error",
     "traceback": [
      "\u001b[1;31m---------------------------------------------------------------------------\u001b[0m",
      "\u001b[1;31mNameError\u001b[0m                                 Traceback (most recent call last)",
      "Input \u001b[1;32mIn [3]\u001b[0m, in \u001b[0;36m<cell line: 89>\u001b[1;34m()\u001b[0m\n\u001b[0;32m     85\u001b[0m             \u001b[38;5;28;01mfor\u001b[39;00m item \u001b[38;5;129;01min\u001b[39;00m output:\n\u001b[0;32m     86\u001b[0m                 \u001b[38;5;28;01mreturn\u001b[39;00m item\n\u001b[1;32m---> 89\u001b[0m \u001b[43mselect_best_option\u001b[49m\u001b[43m(\u001b[49m\u001b[43m)\u001b[49m\n",
      "Input \u001b[1;32mIn [3]\u001b[0m, in \u001b[0;36mselect_best_option\u001b[1;34m()\u001b[0m\n\u001b[0;32m     75\u001b[0m \u001b[38;5;28;01mdef\u001b[39;00m \u001b[38;5;21mselect_best_option\u001b[39m():\n\u001b[1;32m---> 76\u001b[0m     matches \u001b[38;5;241m=\u001b[39m \u001b[43mcalculate_matching_coefficient\u001b[49m\u001b[43m(\u001b[49m\u001b[43m)\u001b[49m\n\u001b[0;32m     77\u001b[0m     best_option \u001b[38;5;241m=\u001b[39m \u001b[38;5;28mmax\u001b[39m(\u001b[38;5;28mmap\u001b[39m(\u001b[38;5;28;01mlambda\u001b[39;00m x: x[\u001b[38;5;241m1\u001b[39m], matches))\n\u001b[0;32m     79\u001b[0m     \u001b[38;5;28;01mfor\u001b[39;00m match \u001b[38;5;129;01min\u001b[39;00m matches:\n",
      "Input \u001b[1;32mIn [3]\u001b[0m, in \u001b[0;36mcalculate_matching_coefficient\u001b[1;34m()\u001b[0m\n\u001b[0;32m     33\u001b[0m \u001b[38;5;28;01mdef\u001b[39;00m \u001b[38;5;21mcalculate_matching_coefficient\u001b[39m():\n\u001b[1;32m---> 34\u001b[0m     device_info \u001b[38;5;241m=\u001b[39m \u001b[43mget_device_attributes\u001b[49m()\n\u001b[0;32m     36\u001b[0m     result \u001b[38;5;241m=\u001b[39m []\n\u001b[0;32m     37\u001b[0m     \u001b[38;5;28;01mfor\u001b[39;00m device \u001b[38;5;129;01min\u001b[39;00m device_info:\n",
      "\u001b[1;31mNameError\u001b[0m: name 'get_device_attributes' is not defined"
     ]
    }
   ],
   "source": [
    "nlp = spacy.load(\"en_core_web_lg\")\n",
    "\n",
    "#input \n",
    "keywords = [\"temperature\", \"humidity\", \"measurment\"]\n",
    "description = \"some device that is able to measure the temperature\"\n",
    "\n",
    "\n",
    "#function to collect synonyms\n",
    "def get_synonyms(word):\n",
    "    \n",
    "    synonyms = []\n",
    "\n",
    "    for syn in wordnet.synsets(word):\n",
    "        for name in syn.lemma_names():\n",
    "            synonyms.append(name)\n",
    "\n",
    "    synonyms = list(dict.fromkeys(synonyms))\n",
    "    synonyms = [x for x in synonyms if \"_\" not in x]\n",
    "    \n",
    "    synonyms_filtered = []\n",
    "    \n",
    "    for syn in synonyms:\n",
    "        nlp_item_input = nlp(word)\n",
    "        nlp_item_synonym = nlp(syn)\n",
    "        similarity_coeff = nlp_item_input.similarity(nlp_item_synonym)\n",
    "        if similarity_coeff > 0.4:\n",
    "            synonyms_filtered.append(syn)\n",
    "        \n",
    "    return synonyms_filtered\n",
    "\n",
    "\n",
    "#calculate the matching coefficient between the available items and the input parameters \n",
    "def calculate_matching_coefficient():\n",
    "    device_info = get_device_attributes()\n",
    "\n",
    "    result = []\n",
    "    for device in device_info:\n",
    "        device_description = device[3]\n",
    "        device_keywords = device[2]\n",
    "        \n",
    "        #tokenize the descriptions\n",
    "        doc1 = nlp(device_description)\n",
    "        doc2 = nlp(description)\n",
    "        \n",
    "        #tokenize the keywords\n",
    "        doc3 = nlp(' '.join(device_keywords))\n",
    "        doc4 = nlp(' '.join(keywords))\n",
    "        \n",
    "        #calculate the coefficient to calculate the searching matches\n",
    "        matches = []\n",
    "        for search_item in doc4:\n",
    "            search_item_lemma = search_item.lemma_\n",
    "            \n",
    "            for dev_item in doc3:\n",
    "                dev_item_lemma = dev_item.lemma_\n",
    "                synonyms = get_synonyms(search_item_lemma)\n",
    "                \n",
    "                if search_item_lemma == dev_item_lemma or search_item_lemma in synonyms:\n",
    "                    matches.append(search_item_lemma)\n",
    "        \n",
    "        #calculating the number of keywords matching in a keyword's base form\n",
    "        keywords_matches = len(matches) / len(doc4)\n",
    "        \n",
    "        #calculating the similarity using the language models of spacy library\n",
    "        description_similarity = doc1.similarity(doc2)\n",
    "        \n",
    "        #calculating the cummulative coefficient\n",
    "        cumul_coeff = (keywords_matches + description_similarity) / 2\n",
    "        \n",
    "        #get the result\n",
    "        result.append([device[0], cumul_coeff])  \n",
    "    \n",
    "    return result\n",
    "\n",
    "def select_best_option():\n",
    "    matches = calculate_matching_coefficient()\n",
    "    best_option = max(map(lambda x: x[1], matches))\n",
    "    \n",
    "    for match in matches:\n",
    "        if match[1] == best_option:\n",
    "            result = match[0]\n",
    "            \n",
    "            output = collection.find({\"Device_id\": result})\n",
    "            \n",
    "            for item in output:\n",
    "                return item\n",
    "\n",
    "\n",
    "select_best_option()"
   ]
  },
  {
   "cell_type": "code",
   "execution_count": null,
   "id": "b5b1453a",
   "metadata": {},
   "outputs": [],
   "source": []
  }
 ],
 "metadata": {
  "kernelspec": {
   "display_name": "Python 3 (ipykernel)",
   "language": "python",
   "name": "python3"
  },
  "language_info": {
   "codemirror_mode": {
    "name": "ipython",
    "version": 3
   },
   "file_extension": ".py",
   "mimetype": "text/x-python",
   "name": "python",
   "nbconvert_exporter": "python",
   "pygments_lexer": "ipython3",
   "version": "3.12.9"
  }
 },
 "nbformat": 4,
 "nbformat_minor": 5
}
