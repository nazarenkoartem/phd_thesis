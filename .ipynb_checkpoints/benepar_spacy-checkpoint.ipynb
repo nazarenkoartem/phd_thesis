{
 "cells": [
  {
   "cell_type": "code",
   "execution_count": 26,
   "id": "df414b9a",
   "metadata": {},
   "outputs": [
    {
     "name": "stderr",
     "output_type": "stream",
     "text": [
      "[nltk_data] Downloading package benepar_en3 to\n",
      "[nltk_data]     C:\\Users\\Artem\\anaconda3\\share\\nltk_data...\n",
      "[nltk_data]   Package benepar_en3 is already up-to-date!\n",
      "You're using a T5TokenizerFast tokenizer. Please note that with a fast tokenizer, using the `__call__` method is faster than using a method to encode the text followed by a call to the `pad` method to get a padded encoding.\n"
     ]
    },
    {
     "name": "stdout",
     "output_type": "stream",
     "text": [
      "!!! {'SBAR': ['where he lives with his family'], 'VP': ['wants to automatize some indoor routines of his house , where he lives with his family'], 'NP': ['some indoor routines of his house , where he lives with his family', 'The client'], 'S': ['The client wants to automatize some indoor routines of his house , where he lives with his family .'], 'PP': ['of his house , where he lives with his family']}\n",
      "!!! {'VP': ['should be automatized , e.g. temperature and light regulation indoors'], 'NP': ['temperature and light regulation indoors', 'internal house processes', 'other words'], 'S': ['In other words , internal house processes should be automatized , e.g. temperature and light regulation indoors .'], 'PP': ['In other words']}\n",
      "!!! {'VP': ['is to maintain the stable conditions indoors with respect to the conditions outdoors'], 'NP': ['respect to the conditions outdoors', 'the stable conditions indoors', 'the stable conditions', 'The basic idea'], 'S': ['The basic idea is to maintain the stable conditions indoors with respect to the conditions outdoors .'], 'PP': ['with respect to the conditions outdoors']}\n",
      "!!! {'VP': ['should be smoothed by the indoors smart home system'], 'NP': ['possible fluctuations of outdoor conditions , like temperature , humidity , air quality , etc', 'the indoors smart home system'], 'S': ['Thus possible fluctuations of outdoor conditions , like temperature , humidity , air quality , etc should be smoothed by the indoors smart home system .'], 'PP': ['of outdoor conditions , like temperature , humidity , air quality , etc', 'by the indoors smart home system'], 'NML': ['smart home']}\n",
      "!!! {'SBAR': ['As different family members can have different perception of comfort conditions'], 'VP': ['should be able to adjust itself to different comfort patterns', 'can have different perception of comfort conditions', 'have different perception of comfort conditions'], 'NP': ['different perception of comfort conditions', 'different comfort patterns', 'different family members', 'the system'], 'S': ['As different family members can have different perception of comfort conditions , the system should be able to adjust itself to different comfort patterns .'], 'PP': ['to different comfort patterns', 'of comfort conditions'], 'ADJP': ['able to adjust itself to different comfort patterns']}\n",
      "!!! {'VP': ['should also be able to identify the activities and adjust the conditions accordingly , e.g. adjust the light intensity based on activity'], 'NP': ['the light intensity', 'The indoor system', 'the activities', 'the conditions'], 'S': ['The indoor system should also be able to identify the activities and adjust the conditions accordingly , e.g. adjust the light intensity based on activity .'], 'PP': ['based on activity'], 'ADJP': ['able to identify the activities and adjust the conditions accordingly , e.g. adjust the light intensity based on activity']}\n"
     ]
    }
   ],
   "source": [
    "from constituent_treelib import ConstituentTree, Language\n",
    "\n",
    "# Define the sentence\n",
    "text_3 = 'The client wants to automatize some indoor routines of his house, where he lives with his family. In other words, internal house processes should be automatized, e.g. temperature and light regulation indoors. The basic idea is to maintain the stable conditions indoors with respect to the conditions outdoors. Thus possible fluctuations of outdoor conditions, like temperature, humidity, air quality, etc should be smoothed by the indoors smart home system. As different family members can have different perception of comfort conditions, the system should be able to adjust itself to different comfort patterns. The indoor system should also be able to identify the activities and adjust the conditions accordingly, e.g. adjust the light intensity based on activity.'\n",
    "doc_3 = nlp(text_3)\n",
    "\n",
    "# Define the language that should be considered \n",
    "language = Language.English\n",
    "\n",
    "# Construct the neccesary NLP pipeline by downloading and installing the required models (benepar and spaCy)\n",
    "nlp = ConstituentTree.create_pipeline(language, download_models = True)\n",
    "\n",
    "for sentence in doc_3.sents:\n",
    "    sent = str(sentence)\n",
    "\n",
    "    # Instantiate a ConstituentTree object and pass it both the sentence and the NLP pipeline\n",
    "    tree = ConstituentTree(sent, nlp)\n",
    "\n",
    "    # Finally, extract all phrases \n",
    "    phrases = tree.extract_all_phrases(avoid_nested_phrases=True)\n",
    "    \n",
    "    print('!!!', phrases)"
   ]
  },
  {
   "cell_type": "code",
   "execution_count": 68,
   "id": "db9a7564",
   "metadata": {},
   "outputs": [
    {
     "name": "stdout",
     "output_type": "stream",
     "text": [
      "[[['Requirement: ', 1, 'is similar to service: ', 1, 'by', 0.21151270506336967], ['Requirement: ', 1, 'is similar to service: ', 2, 'by', 0.16506544297746054], ['Requirement: ', 1, 'is similar to service: ', 3, 'by', 0.2874164212086428], ['Requirement: ', 1, 'is similar to service: ', 4, 'by', 0.22959451281470417], ['Requirement: ', 1, 'is similar to service: ', 5, 'by', 0.17075757948171916], ['Requirement: ', 1, 'is similar to service: ', 6, 'by', 0.18658239823084358]], [['Requirement: ', 2, 'is similar to service: ', 1, 'by', 0.07206381476410427], ['Requirement: ', 2, 'is similar to service: ', 2, 'by', 0.046298687126649245], ['Requirement: ', 2, 'is similar to service: ', 3, 'by', 0.4227933308145428], ['Requirement: ', 2, 'is similar to service: ', 4, 'by', 0.07602966738386788], ['Requirement: ', 2, 'is similar to service: ', 5, 'by', -0.00035703924445026425], ['Requirement: ', 2, 'is similar to service: ', 6, 'by', 0.002049796069070245]], [['Requirement: ', 3, 'is similar to service: ', 1, 'by', 0.09076789798637326], ['Requirement: ', 3, 'is similar to service: ', 2, 'by', 0.05762651885156282], ['Requirement: ', 3, 'is similar to service: ', 3, 'by', 0.3003778516201108], ['Requirement: ', 3, 'is similar to service: ', 4, 'by', 0.04919233818124303], ['Requirement: ', 3, 'is similar to service: ', 5, 'by', 0.016453917691851595], ['Requirement: ', 3, 'is similar to service: ', 6, 'by', -0.05059460307271888]], [['Requirement: ', 4, 'is similar to service: ', 1, 'by', 0.08317767136526609], ['Requirement: ', 4, 'is similar to service: ', 2, 'by', 0.05113036900573199], ['Requirement: ', 4, 'is similar to service: ', 3, 'by', 0.07918387042533499], ['Requirement: ', 4, 'is similar to service: ', 4, 'by', 0.19436005907495393], ['Requirement: ', 4, 'is similar to service: ', 5, 'by', 0.021302375513536156], ['Requirement: ', 4, 'is similar to service: ', 6, 'by', -0.03625019475660085]], [['Requirement: ', 5, 'is similar to service: ', 1, 'by', 0.14978048596814944], ['Requirement: ', 5, 'is similar to service: ', 2, 'by', 0.2246451707143459], ['Requirement: ', 5, 'is similar to service: ', 3, 'by', 0.2828673558781102], ['Requirement: ', 5, 'is similar to service: ', 4, 'by', 0.17071777620706133], ['Requirement: ', 5, 'is similar to service: ', 5, 'by', 0.035894684480658495], ['Requirement: ', 5, 'is similar to service: ', 6, 'by', 0.12300654932310626]]]\n",
      "[['Requirement: 1', 'has the hichest contextual match with Service: 3'], ['Requirement: 2', 'has the hichest contextual match with Service: 3'], ['Requirement: 3', 'has the hichest contextual match with Service: 3'], ['Requirement: 4', 'has the hichest contextual match with Service: 4'], ['Requirement: 5', 'has the hichest contextual match with Service: 3']]\n"
     ]
    }
   ],
   "source": [
    "service_description = [\"\"\"The main focus of the service is the assurance of security and safety for the smart home \n",
    "                        users and their property both indoors and on the home adjoining area. In the case of unexpected \n",
    "                        behaviour detection, users and responsible authorities will be informed. Another possible \n",
    "                        application use-case is children safety assurance, e.g. if a small child enters the kitchen, \n",
    "                        the cooker will be blocked or if it is in use, other family members are informed.\"\"\",\n",
    "                       \"\"\"Mobile Phones, positioning sensors and presence sensors enable the required functionality to \n",
    "                       identify the location of a certain smart home user within the smart home. This service can be used in \n",
    "                        conjunction with other services to enable extended functionality.\"\"\", \n",
    "                       \"\"\"One of the most important tasks of the Smart Home is to monitor and adjust the environment \n",
    "                       conditions indoors. Environment conditions include, for instance, temperature and humidity regulation, \n",
    "                       light intensity regulation etc.\"\"\", \n",
    "                       \"\"\"One of the tasks is measurement and monitoring of vital functions, such as body temperature, \n",
    "                       blood pressure, heartbeat rate. Some of these parameters can be unique depending on the age, person, \n",
    "                       chronical diseases, etc. Therefore, it should be a personal profile indicating what can be considered \n",
    "                       as “normal” depending on the activity. In the case, of anomalous values, an alarm can be sent to other \n",
    "                       family members or to the responsible authority.\"\"\", \n",
    "                       \"\"\"The entertainment service is responsible for management of all possible entertainment sources, \n",
    "                       like sound and video systems all over the house.\"\"\", \n",
    "                       \"\"\"This service covers all possible tasks related to the professional occupation. This can include, \n",
    "                       for instance, personal electronic assistant that can remind the user about the upcoming meeting and \n",
    "                       activities related to work. Another application area is the synchronisation between the working place \n",
    "                       at home and in the office.\"\"\"]\n",
    "\n",
    "requirements_list = ['automation of house routines', \n",
    "                     'indoor conditions (such as temperature and light conditions) should be regulated', \n",
    "                     'outdoor conditions have to be considered by indoor condition regulation',\n",
    "                     'system should consider different family members’ preferences', \n",
    "                     'identification of activities indoors and adjustment/adoption of conditions accordingly']\n",
    "\n",
    "similarities_batch = []\n",
    "\n",
    "for idxr, requirement in enumerate(requirements_list, start=1):\n",
    "    \n",
    "    requirement_mapping = []\n",
    "    \n",
    "    for idxd, description in enumerate(service_description, start=1):\n",
    "        requirement_tok = nlp(requirement)\n",
    "        description_tok = nlp(description)\n",
    "        \n",
    "        similarity_coeff = requirement_tok.similarity(description_tok)\n",
    "        \n",
    "        requirement_mapping.append(['Requirement: ', idxr, \"is similar to service: \", idxd, 'by', similarity_coeff])\n",
    "    \n",
    "    similarities_batch.append(requirement_mapping)\n",
    "        \n",
    "print(similarities_batch)\n",
    "        \n",
    "mapping_result = []\n",
    "\n",
    "for batch in similarities_batch:\n",
    "    batch_coeff = []\n",
    "    #print(batch)\n",
    "    sorted_list = sorted(batch, key=lambda x: x[5], reverse=True)#, reverse=True)\n",
    "    \n",
    "    best_match = sorted_list[:1]\n",
    "    #print('...', best_match)\n",
    "    \n",
    "    for match in best_match:\n",
    "        mapping_result.append(['Requirement: ' + str(match[1]), 'has the hichest contextual match with Service: ' + str(match[3])])\n",
    "\n",
    "print(mapping_result)"
   ]
  },
  {
   "cell_type": "code",
   "execution_count": null,
   "id": "e759f582",
   "metadata": {},
   "outputs": [],
   "source": []
  }
 ],
 "metadata": {
  "kernelspec": {
   "display_name": "Python 3 (ipykernel)",
   "language": "python",
   "name": "python3"
  },
  "language_info": {
   "codemirror_mode": {
    "name": "ipython",
    "version": 3
   },
   "file_extension": ".py",
   "mimetype": "text/x-python",
   "name": "python",
   "nbconvert_exporter": "python",
   "pygments_lexer": "ipython3",
   "version": "3.12.9"
  }
 },
 "nbformat": 4,
 "nbformat_minor": 5
}
