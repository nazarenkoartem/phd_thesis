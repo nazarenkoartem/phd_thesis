{
 "cells": [
  {
   "cell_type": "code",
   "execution_count": 1,
   "id": "97d83841",
   "metadata": {},
   "outputs": [],
   "source": [
    "from langchain_community.llms import Ollama"
   ]
  },
  {
   "cell_type": "code",
   "execution_count": 2,
   "id": "37f7741f",
   "metadata": {},
   "outputs": [
    {
     "name": "stderr",
     "output_type": "stream",
     "text": [
      "C:\\Users\\Artem\\AppData\\Local\\Temp\\ipykernel_27756\\2869663664.py:1: LangChainDeprecationWarning: The class `Ollama` was deprecated in LangChain 0.3.1 and will be removed in 1.0.0. An updated version of the class exists in the :class:`~langchain-ollama package and should be used instead. To use it run `pip install -U :class:`~langchain-ollama` and import as `from :class:`~langchain_ollama import OllamaLLM``.\n",
      "  llm = Ollama(model=\"llama3.1\")\n"
     ]
    }
   ],
   "source": [
    "llm = Ollama(model=\"llama3.1\")"
   ]
  },
  {
   "cell_type": "code",
   "execution_count": 3,
   "id": "e2bc4de6",
   "metadata": {},
   "outputs": [],
   "source": [
    "from langchain_ollama import OllamaLLM\n",
    "model = Ollama(model=\"llama3.1:latest\")"
   ]
  },
  {
   "cell_type": "code",
   "execution_count": 17,
   "id": "c0f0a99c",
   "metadata": {},
   "outputs": [
    {
     "name": "stdout",
     "output_type": "stream",
     "text": [
      "\u001b[1mOllama\u001b[0m\n",
      "Params: {'model': 'llama3.1:latest', 'format': None, 'options': {'mirostat': None, 'mirostat_eta': None, 'mirostat_tau': None, 'num_ctx': None, 'num_gpu': None, 'num_thread': None, 'num_predict': None, 'repeat_last_n': None, 'repeat_penalty': None, 'temperature': None, 'stop': None, 'tfs_z': None, 'top_k': None, 'top_p': None}, 'system': None, 'template': None, 'keep_alive': None, 'raw': None}\n"
     ]
    }
   ],
   "source": [
    "print(model)"
   ]
  },
  {
   "cell_type": "code",
   "execution_count": null,
   "id": "f5e37d91",
   "metadata": {},
   "outputs": [],
   "source": [
    "#The client is a busy person that works a lot. He lives with his wife and their two children in the house. Both he and his wife are working and occasionally the children are left alone at home. Last month, a neighbouring house was robbed, and they are now concerned with the safety of their children. Moreover, the client and his wife would like to spend more time with their children and would like to automate some household routines, such as shopping. The client owns an electric car, which he uses to drive to his work, and he wants to charge it at the lowest possible price, for instance at night. The client also wants to au-tomate the cleaning routine, but it should be done while he and his family are away from the house. Another important aspect is the safety of the house when the client, his wife, and children are on vacation\n",
    "\n",
    "#client is busy person, lives with wife children, children alone in house, concerned safety chil-dren, automatize routine shopping, client has electric car, safety house vacation"
   ]
  },
  {
   "cell_type": "code",
   "execution_count": 4,
   "id": "45fd748f",
   "metadata": {},
   "outputs": [],
   "source": [
    "from typing_extensions import TypedDict\n",
    "from langgraph.graph import StateGraph, START, END\n",
    "from langgraph.types import Command, interrupt\n",
    "from langgraph.checkpoint.memory import MemorySaver\n",
    "from IPython.display import Image, display\n",
    "from langchain_core.messages import HumanMessage, SystemMessage\n",
    "\n",
    "# Graph state\n",
    "class State(TypedDict):\n",
    "    plain_text: str\n",
    "    update_context: str\n",
    "    items_to_update: str\n",
    "    requirements_extracted: str\n",
    "    improved_requirements: str"
   ]
  },
  {
   "cell_type": "code",
   "execution_count": 5,
   "id": "39af0de6",
   "metadata": {},
   "outputs": [],
   "source": [
    "# Nodes\n",
    "def generate_requirements(state: State):\n",
    "    \"\"\"First LLM call to generate initial requirements\"\"\"\n",
    "\n",
    "    msg = model.invoke(f\"Please extract the requirements from the provided text: {state['plain_text']}\")\n",
    "    return {\"requirements_extracted\": msg}\n",
    "    \n",
    "\n",
    "def improve_requirements(state: State):\n",
    "    \"\"\"Second LLM call to improve requirements\"\"\"\n",
    "    \n",
    "    msg = model.invoke(f\"Extract requirements from {state['plain_text']} considering the following aspects {state['items_to_update']}\")\n",
    "    return {\"improved_requirements\": msg}\n",
    "\n",
    "\n",
    "def designer_feedback(state: State):\n",
    "    print(\"---designer feedback---\")\n",
    "    feedback = interrupt(\"Please provide feedback:\")\n",
    "    return {\"update_context\": feedback}\n",
    "\n",
    "    \n",
    "def check_requirements(state: State):\n",
    "    state_value = state['update_context']\n",
    "    if state['update_context'] == 'approve':\n",
    "        return \"Pass\"\n",
    "    elif state['update_context'] == 'discard':\n",
    "        return \"Fail\"\n",
    "\n"
   ]
  },
  {
   "cell_type": "code",
   "execution_count": 6,
   "id": "38f0f5fb",
   "metadata": {},
   "outputs": [
    {
     "data": {
      "image/png": "[encoded data removed]",
      "text/plain": [
       "<IPython.core.display.Image object>"
      ]
     },
     "metadata": {},
     "output_type": "display_data"
    }
   ],
   "source": [
    "# Build workflow\n",
    "workflow = StateGraph(State)\n",
    "\n",
    "# Add nodes\n",
    "workflow.add_node(\"generate_requirements\", generate_requirements)\n",
    "workflow.add_node(\"designer_feedback\", designer_feedback)\n",
    "workflow.add_node(\"improve_requirements\", improve_requirements)\n",
    "\n",
    "\n",
    "# Add edges to connect nodes\n",
    "workflow.add_edge(START, \"generate_requirements\")\n",
    "workflow.add_edge(\"generate_requirements\", \"designer_feedback\")\n",
    "#workflow.add_edge(\"designer_feedback\", \"improve_requirements\")\n",
    "workflow.add_conditional_edges(\n",
    "    \"designer_feedback\", check_requirements, {\"Fail\": \"improve_requirements\", \"Pass\": END}\n",
    ")\n",
    "workflow.add_edge(\"improve_requirements\", END)\n",
    "\n",
    "# Set up memory\n",
    "memory = MemorySaver()\n",
    "\n",
    "# Compile\n",
    "chain = workflow.compile(checkpointer=memory)\n",
    "\n",
    "# Show workflow\n",
    "display(Image(chain.get_graph().draw_mermaid_png()))"
   ]
  },
  {
   "cell_type": "code",
   "execution_count": null,
   "id": "0d037772",
   "metadata": {},
   "outputs": [],
   "source": [
    "from tkinter import *\n",
    "\n",
    "root = Tk()\n",
    "root.geometry(\"1024x480\")\n",
    "root.title(\"Printing a List to the Tkinter Text Widget\")\n",
    "\n",
    "my_list = [\"The client wants to automatize some indoor routines of his house, where he lives with his family. In other words, internal house processes should be automatized, e.g. temperature and light regulation indoors.\"]\n",
    "\n",
    "txt_output = Text(root, height=10, width=50)\n",
    "txt_output.pack(pady=30)\n",
    "\n",
    "def get_widget():\n",
    "\n",
    "    txt_output.insert(END, my_list)\n",
    "\n",
    "root.mainloop()\n",
    "\n",
    "# Thread\n",
    "thread = {\"configurable\": {\"thread_id\": \"1\"}}\n",
    "\n",
    "state = chain.invoke({\"plain_text\": \"The client wants to automatize some indoor routines of his house, where he lives with his family. In other words, internal house processes should be automatized, e.g. temperature and light regulation indoors. The basic idea is to maintain stable conditions indoors with respect to the conditions outdoors. Thus, possible fluctuations of outdoor conditions, like temperature, humidity, air quality, etc. should be smoothed by the indoors smart home system. As different family members can have different perceptions of comfort conditions, the system should be able to adjust itself to different comfort patterns. The indoor system should also be able to identify the activities and adjust its conditions accordingly, e.g. ad-just the light intensity based on the activity.\"}, thread)\n",
    "\n",
    "get_widget(state)\n",
    "\n",
    "'''\n",
    "print(\"Initial iteration of requirements elicitation:\")\n",
    "print(state[\"requirements_extracted\"])\n",
    "print(\"\\n--- --- ---\\n\")\n",
    "'''\n",
    "# Run the graph until the first interruption\n",
    "for event in chain.stream(state, thread, stream_mode=\"updates\"):\n",
    "    print(event)\n",
    "    print(\"\\n\")\n"
   ]
  },
  {
   "cell_type": "code",
   "execution_count": 7,
   "id": "38376571",
   "metadata": {},
   "outputs": [
    {
     "name": "stdout",
     "output_type": "stream",
     "text": [
      "---designer feedback---\n",
      "Initial iteration of requirements elicitation:\n",
      "Here are the requirements extracted from the text:\n",
      "\n",
      "1. **Automate internal house processes**:\n",
      "\t* Temperature regulation\n",
      "\t* Light regulation\n",
      "2. **Maintain stable indoor conditions**:\n",
      "\t* Regardless of outdoor fluctuations in temperature, humidity, air quality, etc.\n",
      "3. **Customizable comfort settings**:\n",
      "\t* Adjust to different comfort patterns for various family members\n",
      "4. **Context-aware adjustment**:\n",
      "\t* Identify activities (e.g., sleeping, watching TV, cooking) and adjust conditions accordingly (e.g., light intensity)\n",
      "5. **Adaptive system**:\n",
      "\t* The system should be able to adjust itself in response to changing conditions or user preferences.\n",
      "\n",
      "--- --- ---\n",
      "\n",
      "{'generate_requirements': {'requirements_extracted': \"Here are the requirements extracted from the text:\\n\\n1. **Automate internal house processes**: Automate routines such as temperature and light regulation indoors.\\n2. **Maintain stable indoor conditions**: Keep indoor conditions (e.g. temperature, humidity, air quality) stable with respect to outdoor conditions.\\n3. **Smooth fluctuations in outdoor conditions**: Smooth out possible changes in outdoor conditions (e.g. temperature, humidity, air quality).\\n4. **Adjust comfort patterns for different family members**: Adjust the system's settings based on individual family members' perceptions of comfort.\\n5. **Identify activities and adjust conditions accordingly**: Recognize what activity is happening indoors and adjust lighting intensity or other conditions to match.\\n6. **Adaptability to changing situations**: The system should be able to adapt its settings in response to changes in outdoor conditions, user preferences, or indoor activities.\\n\\nThese requirements focus on creating a smart home system that can maintain a stable and comfortable indoor environment while also adapting to the needs of different family members.\"}}\n",
      "\n",
      "\n",
      "---designer feedback---\n",
      "{'__interrupt__': (Interrupt(value='Please provide feedback:', resumable=True, ns=['designer_feedback:f3f1bf00-d680-d0d6-0654-3b97b87ebb3e'], when='during'),)}\n",
      "\n",
      "\n"
     ]
    }
   ],
   "source": [
    "\n",
    "# Thread\n",
    "thread = {\"configurable\": {\"thread_id\": \"1\"}}\n",
    "# Input\n",
    "#state = chain.invoke({\"plain_text\": \"The client is a busy person that works a lot. He lives with his wife and their two children in the house. Both he and his wife are working and occasionally the children are left alone at home. Last month, a neighbouring house was robbed, and they are now concerned with the safety of their children. Moreover, the client and his wife would like to spend more time with their children and would like to automate some household routines, such as shopping. The client owns an electric car, which he uses to drive to his work, and he wants to charge it at the lowest possible price, for instance at night. The client also wants to au-tomate the cleaning routine, but it should be done while he and his family are away from the house. Another important aspect is the safety of the house when the client, his wife, and children are on vacation\"}, thread)\n",
    "#state = chain.invoke({\"plain_text\": \"The client has old parents he takes care of. They are living in another city, which makes it difficult for the client to meet them more often. His father has diabetes and requires per-manent medical assistance.\"}, thread)\n",
    "state = chain.invoke({\"plain_text\": \"The client wants to automatize some indoor routines of his house, where he lives with his family. In other words, internal house processes should be automatized, e.g. temperature and light regulation indoors. The basic idea is to maintain stable conditions indoors with respect to the conditions outdoors. Thus, possible fluctuations of outdoor conditions, like temperature, humidity, air quality, etc. should be smoothed by the indoors smart home system. As different family members can have different perceptions of comfort conditions, the system should be able to adjust itself to different comfort patterns. The indoor system should also be able to identify the activities and adjust its conditions accordingly, e.g. ad-just the light intensity based on the activity.\"}, thread)\n",
    "\n",
    "\n",
    "print(\"Initial iteration of requirements elicitation:\")\n",
    "print(state[\"requirements_extracted\"])\n",
    "print(\"\\n--- --- ---\\n\")\n",
    "\n",
    "# Run the graph until the first interruption\n",
    "for event in chain.stream(state, thread, stream_mode=\"updates\"):\n",
    "    print(event)\n",
    "    print(\"\\n\")"
   ]
  },
  {
   "cell_type": "code",
   "execution_count": 10,
   "id": "6219452d",
   "metadata": {},
   "outputs": [
    {
     "name": "stdout",
     "output_type": "stream",
     "text": [
      "Are you satisfied with the results, reply with approve / discard:approve\n",
      "---designer feedback---\n",
      "---designer feedback---\n",
      "{'designer_feedback': {'update_context': 'approve'}}\n",
      "\n",
      "\n",
      "Following iteration to enhance requirements elicitation process:\n",
      "Here are the requirements extracted from the text:\n",
      "\n",
      "**Functional Requirements**\n",
      "\n",
      "1. Automate indoor routines (e.g. temperature and light regulation)\n",
      "2. Maintain stable indoor conditions with respect to outdoor conditions\n",
      "3. Smooth out fluctuations in outdoor conditions (e.g. temperature, humidity, air quality)\n",
      "4. Adjust indoor conditions based on different family members' comfort patterns\n",
      "\n",
      "**Non-Functional Requirements**\n",
      "\n",
      "1. Ability to identify the activities within the house and adjust indoor conditions accordingly\n",
      "2. Ability to adjust light intensity based on activity\n",
      "3. Adaptability of the system to different comfort patterns among family members\n",
      "\n",
      "**Assumptions**\n",
      "\n",
      "1. The outdoor conditions (e.g. temperature, humidity, air quality) can be sensed or obtained from an external source.\n",
      "2. The comfort patterns and preferences of family members can be inputted or learned by the system over time.\n",
      "\n",
      "Note: These requirements may not be exhaustive, but they cover the main points mentioned in the text.\n",
      "\n",
      "--- --- ---\n",
      "\n"
     ]
    },
    {
     "data": {
      "text/plain": [
       "()"
      ]
     },
     "execution_count": 10,
     "metadata": {},
     "output_type": "execute_result"
    }
   ],
   "source": [
    "designer_input = input(\"Are you satisfied with the results, reply with approve / discard:\")\n",
    "\n",
    "#state = chain.invoke({\"items_to_update\": \"client is busy person, lives with wife children, children alone in house, concerned safety chil-dren, automatize routine shopping, client has electric car, safety house vacation\"}, thread)\n",
    "state = chain.invoke({\"items_to_update\": \"Automatize, routines, house; should be automatized, e.g., temperature and light regulation indoors; is to maintain the stable conditions indoors with respect to the conditions out-doors; possible fluctuations of outdoor conditions, like temperature, humidity, air quality, etc; should be smoothed by the indoors smart home system; different family members; different perceptions of comfort conditions; able to adjust itself to different comfort patterns\"}, thread)\n",
    "\n",
    "# Continue the graph execution\n",
    "for event in chain.stream(\n",
    "    Command(resume=designer_input), thread, stream_mode=\"updates\"\n",
    "):\n",
    "    print(event)\n",
    "    print(\"\\n\")\n",
    "\n",
    "'''\n",
    "if state[\"update_context\"] == \"discard\":\n",
    "    print(state[\"improved_requirements\"])\n",
    "    #print(\"blala\")\n",
    "else:\n",
    "    print(\"Initially extracted requirments are satisfactory!\")\n",
    "'''\n",
    "    \n",
    "if \"improved_requirements\" in state:\n",
    "    print(\"Following iteration to enhance requirements elicitation process:\")\n",
    "    print(state[\"improved_requirements\"])\n",
    "    print(\"\\n--- --- ---\\n\")\n",
    "else:\n",
    "    print(\"Initially extracted requirments are satisfactory!\")\n",
    "    print(state[\"update_context\"])\n",
    "    \n",
    "\n",
    "\n",
    "chain.get_state(thread).values\n",
    "chain.get_state(thread).next"
   ]
  },
  {
   "cell_type": "code",
   "execution_count": null,
   "id": "6fe2f0bf",
   "metadata": {},
   "outputs": [],
   "source": []
  }
 ],
 "metadata": {
  "kernelspec": {
   "display_name": "Python 3 (ipykernel)",
   "language": "python",
   "name": "python3"
  },
  "language_info": {
   "codemirror_mode": {
    "name": "ipython",
    "version": 3
   },
   "file_extension": ".py",
   "mimetype": "text/x-python",
   "name": "python",
   "nbconvert_exporter": "python",
   "pygments_lexer": "ipython3",
   "version": "3.12.9"
  }
 },
 "nbformat": 4,
 "nbformat_minor": 5
}
